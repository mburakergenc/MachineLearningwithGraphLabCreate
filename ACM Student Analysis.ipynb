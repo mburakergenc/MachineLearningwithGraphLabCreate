{
 "cells": [
  {
   "cell_type": "code",
   "execution_count": 765,
   "metadata": {
    "collapsed": true
   },
   "outputs": [],
   "source": [
    "import graphlab\n",
    "import urllib"
   ]
  },
  {
   "cell_type": "code",
   "execution_count": 766,
   "metadata": {
    "collapsed": false
   },
   "outputs": [],
   "source": [
    "response = urllib.urlretrieve('https://docs.google.com/spreadsheets/d/1b3spqbLiPMz7jdGeOWOsuVTB-60kJjy-bDoGhxUnYlE/pub?gid=969050997&single=true&output=csv', 'profiles.csv')"
   ]
  },
  {
   "cell_type": "code",
   "execution_count": 767,
   "metadata": {
    "collapsed": false
   },
   "outputs": [
    {
     "data": {
      "text/html": [
       "<pre>Finished parsing file /Users/muhammetergenc/profiles.csv</pre>"
      ],
      "text/plain": [
       "Finished parsing file /Users/muhammetergenc/profiles.csv"
      ]
     },
     "metadata": {},
     "output_type": "display_data"
    },
    {
     "data": {
      "text/html": [
       "<pre>Parsing completed. Parsed 100 lines in 0.033704 secs.</pre>"
      ],
      "text/plain": [
       "Parsing completed. Parsed 100 lines in 0.033704 secs."
      ]
     },
     "metadata": {},
     "output_type": "display_data"
    },
    {
     "name": "stdout",
     "output_type": "stream",
     "text": [
      "------------------------------------------------------\n",
      "Inferred types from first 100 line(s) of file as \n",
      "column_type_hints=[str,str,float,str,str,str]\n",
      "If parsing fails due to incorrect types, you can correct\n",
      "the inferred type list above and pass it to read_csv in\n",
      "the column_type_hints argument\n",
      "------------------------------------------------------\n"
     ]
    },
    {
     "data": {
      "text/html": [
       "<pre>Finished parsing file /Users/muhammetergenc/profiles.csv</pre>"
      ],
      "text/plain": [
       "Finished parsing file /Users/muhammetergenc/profiles.csv"
      ]
     },
     "metadata": {},
     "output_type": "display_data"
    },
    {
     "data": {
      "text/html": [
       "<pre>Parsing completed. Parsed 206 lines in 0.012996 secs.</pre>"
      ],
      "text/plain": [
       "Parsing completed. Parsed 206 lines in 0.012996 secs."
      ]
     },
     "metadata": {},
     "output_type": "display_data"
    }
   ],
   "source": [
    "profiles = graphlab.SFrame.read_csv('profiles.csv')"
   ]
  },
  {
   "cell_type": "code",
   "execution_count": 768,
   "metadata": {
    "collapsed": false
   },
   "outputs": [],
   "source": [
    "burak = profiles[profiles['Name'] == \"Burak Ergenc\"]\n",
    "enes = profiles[profiles['Name'] == 'Enes Kemal Ergin']\n",
    "bedir = profiles[profiles['Name'] == 'M. Bedir Tapkan']\n",
    "hafsa = profiles[profiles['Name'] == 'Hafsa Naciye Celebi']\n",
    "nadide = profiles[profiles['Name'] == 'Nadide Pasali']\n",
    "inam = profiles[profiles['Name'] == 'Inamullah Rasuna']\n",
    "medina = profiles[profiles['Name'] == 'Medina Colic']\n",
    "islam = profiles[profiles['Name'] == 'Islam Kamilov']\n",
    "aysenur = profiles[profiles['Name'] == 'Aysenur Erdem']\n",
    "behic = profiles[profiles['Name'] == 'Behic Guven']"
   ]
  },
  {
   "cell_type": "code",
   "execution_count": 769,
   "metadata": {
    "collapsed": false
   },
   "outputs": [
    {
     "data": {
      "text/plain": [
       "118.0"
      ]
     },
     "execution_count": 769,
     "metadata": {},
     "output_type": "execute_result"
    }
   ],
   "source": [
    "sum(burak['Hours of Study'])"
   ]
  },
  {
   "cell_type": "code",
   "execution_count": 770,
   "metadata": {
    "collapsed": false
   },
   "outputs": [],
   "source": [
    "sfr = graphlab.SFrame()"
   ]
  },
  {
   "cell_type": "code",
   "execution_count": 771,
   "metadata": {
    "collapsed": false
   },
   "outputs": [],
   "source": [
    "burakinfo = ''.join(burak['Topic'])\n",
    "enesinfo = ''.join(enes['Topic'])\n",
    "bedirinfo = ''.join(bedir['Topic'])\n",
    "hafsainfo = ''.join(hafsa['Topic'])\n",
    "nadideinfo = ''.join(nadide['Topic'])\n",
    "inaminfo = ''.join(inam['Topic'])\n",
    "medinainfo = ''.join(medina['Topic'])\n",
    "islaminfo = ''.join(islam['Topic'])\n",
    "aysenurinfo = ''.join(aysenur['Topic'])\n",
    "behicinfo = ''.join(behic['Topic'])\n",
    "burakname = burak['Name'][0]\n",
    "enesname  = enes['Name'][0]\n",
    "bedirname = bedir['Name'][0]\n",
    "hafsaname = hafsa['Name'][0]\n",
    "nadidename= nadide['Name'][0]\n",
    "inamname  = inam['Name'][0]\n",
    "medinaname= medina['Name'][0]\n",
    "islamname = islam['Name'][0]\n",
    "aysenurname = aysenur['Name'][0]\n",
    "behicname = behic['Name'][0]"
   ]
  },
  {
   "cell_type": "code",
   "execution_count": 772,
   "metadata": {
    "collapsed": false
   },
   "outputs": [],
   "source": [
    "sfr['Topic'] = [burakinfo] + [enesinfo] + [bedirinfo] + [hafsainfo] + [nadideinfo] + [inaminfo] + [medinainfo] + [islaminfo] + [aysenurinfo] + [behicinfo]"
   ]
  },
  {
   "cell_type": "code",
   "execution_count": 773,
   "metadata": {
    "collapsed": false
   },
   "outputs": [],
   "source": [
    "sfr['Name'] = [burakname] + [enesname] + [bedirname] + [hafsaname] + [nadidename] + [inamname] + [medinaname] + [islamname] + [aysenurname] + [behicname]"
   ]
  },
  {
   "cell_type": "code",
   "execution_count": 774,
   "metadata": {
    "collapsed": false
   },
   "outputs": [],
   "source": [
    "burak = sfr[sfr['Name'] == 'Burak Ergenc']"
   ]
  },
  {
   "cell_type": "markdown",
   "metadata": {},
   "source": [
    "# Create Word Count Vector"
   ]
  },
  {
   "cell_type": "code",
   "execution_count": 775,
   "metadata": {
    "collapsed": false
   },
   "outputs": [],
   "source": [
    "sfr['word_count'] =  graphlab.text_analytics.count_words(sfr['Topic'])"
   ]
  },
  {
   "cell_type": "markdown",
   "metadata": {},
   "source": [
    "# Normalize the vector and create Term Frequency * Inverse Document Frequency"
   ]
  },
  {
   "cell_type": "code",
   "execution_count": 776,
   "metadata": {
    "collapsed": true
   },
   "outputs": [],
   "source": [
    "tfidf = graphlab.text_analytics.tf_idf(sfr['word_count'])\n",
    "sfr['tfidf'] = tfidf"
   ]
  },
  {
   "cell_type": "code",
   "execution_count": 777,
   "metadata": {
    "collapsed": true
   },
   "outputs": [],
   "source": [
    "burak = sfr[sfr['Name'] == \"Burak Ergenc\"]\n",
    "enes = sfr[sfr['Name'] == 'Enes Kemal Ergin']\n",
    "bedir = sfr[sfr['Name'] == 'M. Bedir Tapkan']\n",
    "hafsa = sfr[sfr['Name'] == 'Hafsa Naciye Celebi']\n",
    "nadide = sfr[sfr['Name'] == 'Nadide Pasali']\n",
    "inam = sfr[sfr['Name'] == 'Inamullah Rasuna']\n",
    "medina = sfr[sfr['Name'] == 'Medina Colic']\n",
    "islam = sfr[sfr['Name'] == 'Islam Kamilov']\n",
    "aysenur = sfr[sfr['Name'] == 'Aysenur Erdem']\n",
    "behic = sfr[sfr['Name'] == 'Behic Guven']"
   ]
  },
  {
   "cell_type": "markdown",
   "metadata": {},
   "source": [
    "# Create the k-Nearest Neighbors Algorithm with tfidf"
   ]
  },
  {
   "cell_type": "code",
   "execution_count": 778,
   "metadata": {
    "collapsed": false
   },
   "outputs": [
    {
     "data": {
      "text/html": [
       "<pre>Starting brute force nearest neighbors model training.</pre>"
      ],
      "text/plain": [
       "Starting brute force nearest neighbors model training."
      ]
     },
     "metadata": {},
     "output_type": "display_data"
    }
   ],
   "source": [
    "knn_model = graphlab.nearest_neighbors.create(sfr, features=['tfidf'], label='Name', distance='cosine')"
   ]
  },
  {
   "cell_type": "code",
   "execution_count": 780,
   "metadata": {
    "collapsed": false
   },
   "outputs": [
    {
     "data": {
      "text/html": [
       "<pre>Starting pairwise querying.</pre>"
      ],
      "text/plain": [
       "Starting pairwise querying."
      ]
     },
     "metadata": {},
     "output_type": "display_data"
    },
    {
     "data": {
      "text/html": [
       "<pre>+--------------+---------+-------------+--------------+</pre>"
      ],
      "text/plain": [
       "+--------------+---------+-------------+--------------+"
      ]
     },
     "metadata": {},
     "output_type": "display_data"
    },
    {
     "data": {
      "text/html": [
       "<pre>| Query points | # Pairs | % Complete. | Elapsed Time |</pre>"
      ],
      "text/plain": [
       "| Query points | # Pairs | % Complete. | Elapsed Time |"
      ]
     },
     "metadata": {},
     "output_type": "display_data"
    },
    {
     "data": {
      "text/html": [
       "<pre>+--------------+---------+-------------+--------------+</pre>"
      ],
      "text/plain": [
       "+--------------+---------+-------------+--------------+"
      ]
     },
     "metadata": {},
     "output_type": "display_data"
    },
    {
     "data": {
      "text/html": [
       "<pre>| 0            | 1       | 10          | 720us        |</pre>"
      ],
      "text/plain": [
       "| 0            | 1       | 10          | 720us        |"
      ]
     },
     "metadata": {},
     "output_type": "display_data"
    },
    {
     "data": {
      "text/html": [
       "<pre>| Done         |         | 100         | 821us        |</pre>"
      ],
      "text/plain": [
       "| Done         |         | 100         | 821us        |"
      ]
     },
     "metadata": {},
     "output_type": "display_data"
    },
    {
     "data": {
      "text/html": [
       "<pre>+--------------+---------+-------------+--------------+</pre>"
      ],
      "text/plain": [
       "+--------------+---------+-------------+--------------+"
      ]
     },
     "metadata": {},
     "output_type": "display_data"
    },
    {
     "data": {
      "text/html": [
       "<div style=\"max-height:1000px;max-width:1500px;overflow:auto;\"><table frame=\"box\" rules=\"cols\">\n",
       "    <tr>\n",
       "        <th style=\"padding-left: 1em; padding-right: 1em; text-align: center\">query_label</th>\n",
       "        <th style=\"padding-left: 1em; padding-right: 1em; text-align: center\">reference_label</th>\n",
       "        <th style=\"padding-left: 1em; padding-right: 1em; text-align: center\">distance</th>\n",
       "        <th style=\"padding-left: 1em; padding-right: 1em; text-align: center\">rank</th>\n",
       "    </tr>\n",
       "    <tr>\n",
       "        <td style=\"padding-left: 1em; padding-right: 1em; text-align: center; vertical-align: top\">0</td>\n",
       "        <td style=\"padding-left: 1em; padding-right: 1em; text-align: center; vertical-align: top\">Burak Ergenc</td>\n",
       "        <td style=\"padding-left: 1em; padding-right: 1em; text-align: center; vertical-align: top\">0.0</td>\n",
       "        <td style=\"padding-left: 1em; padding-right: 1em; text-align: center; vertical-align: top\">1</td>\n",
       "    </tr>\n",
       "    <tr>\n",
       "        <td style=\"padding-left: 1em; padding-right: 1em; text-align: center; vertical-align: top\">0</td>\n",
       "        <td style=\"padding-left: 1em; padding-right: 1em; text-align: center; vertical-align: top\">Enes Kemal Ergin</td>\n",
       "        <td style=\"padding-left: 1em; padding-right: 1em; text-align: center; vertical-align: top\">0.848428299169</td>\n",
       "        <td style=\"padding-left: 1em; padding-right: 1em; text-align: center; vertical-align: top\">2</td>\n",
       "    </tr>\n",
       "    <tr>\n",
       "        <td style=\"padding-left: 1em; padding-right: 1em; text-align: center; vertical-align: top\">0</td>\n",
       "        <td style=\"padding-left: 1em; padding-right: 1em; text-align: center; vertical-align: top\">Hafsa Naciye Celebi</td>\n",
       "        <td style=\"padding-left: 1em; padding-right: 1em; text-align: center; vertical-align: top\">0.914922932072</td>\n",
       "        <td style=\"padding-left: 1em; padding-right: 1em; text-align: center; vertical-align: top\">3</td>\n",
       "    </tr>\n",
       "    <tr>\n",
       "        <td style=\"padding-left: 1em; padding-right: 1em; text-align: center; vertical-align: top\">0</td>\n",
       "        <td style=\"padding-left: 1em; padding-right: 1em; text-align: center; vertical-align: top\">Inamullah Rasuna</td>\n",
       "        <td style=\"padding-left: 1em; padding-right: 1em; text-align: center; vertical-align: top\">0.922673493112</td>\n",
       "        <td style=\"padding-left: 1em; padding-right: 1em; text-align: center; vertical-align: top\">4</td>\n",
       "    </tr>\n",
       "    <tr>\n",
       "        <td style=\"padding-left: 1em; padding-right: 1em; text-align: center; vertical-align: top\">0</td>\n",
       "        <td style=\"padding-left: 1em; padding-right: 1em; text-align: center; vertical-align: top\">Aysenur Erdem</td>\n",
       "        <td style=\"padding-left: 1em; padding-right: 1em; text-align: center; vertical-align: top\">0.935248982277</td>\n",
       "        <td style=\"padding-left: 1em; padding-right: 1em; text-align: center; vertical-align: top\">5</td>\n",
       "    </tr>\n",
       "</table>\n",
       "[5 rows x 4 columns]<br/>\n",
       "</div>"
      ],
      "text/plain": [
       "Columns:\n",
       "\tquery_label\tint\n",
       "\treference_label\tstr\n",
       "\tdistance\tfloat\n",
       "\trank\tint\n",
       "\n",
       "Rows: 5\n",
       "\n",
       "Data:\n",
       "+-------------+---------------------+----------------+------+\n",
       "| query_label |   reference_label   |    distance    | rank |\n",
       "+-------------+---------------------+----------------+------+\n",
       "|      0      |     Burak Ergenc    |      0.0       |  1   |\n",
       "|      0      |   Enes Kemal Ergin  | 0.848428299169 |  2   |\n",
       "|      0      | Hafsa Naciye Celebi | 0.914922932072 |  3   |\n",
       "|      0      |   Inamullah Rasuna  | 0.922673493112 |  4   |\n",
       "|      0      |    Aysenur Erdem    | 0.935248982277 |  5   |\n",
       "+-------------+---------------------+----------------+------+\n",
       "[5 rows x 4 columns]"
      ]
     },
     "execution_count": 780,
     "metadata": {},
     "output_type": "execute_result"
    }
   ],
   "source": [
    "knn_model.query(burak)"
   ]
  },
  {
   "cell_type": "code",
   "execution_count": null,
   "metadata": {
    "collapsed": false
   },
   "outputs": [],
   "source": []
  },
  {
   "cell_type": "code",
   "execution_count": null,
   "metadata": {
    "collapsed": true
   },
   "outputs": [],
   "source": []
  }
 ],
 "metadata": {
  "kernelspec": {
   "display_name": "Python 2",
   "language": "python",
   "name": "python2"
  },
  "language_info": {
   "codemirror_mode": {
    "name": "ipython",
    "version": 2
   },
   "file_extension": ".py",
   "mimetype": "text/x-python",
   "name": "python",
   "nbconvert_exporter": "python",
   "pygments_lexer": "ipython2",
   "version": "2.7.11"
  }
 },
 "nbformat": 4,
 "nbformat_minor": 0
}
